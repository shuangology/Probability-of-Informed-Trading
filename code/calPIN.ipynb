{
 "cells": [
  {
   "cell_type": "code",
   "execution_count": 1,
   "metadata": {
    "ExecuteTime": {
     "end_time": "2019-07-24T15:39:48.303270Z",
     "start_time": "2019-07-24T15:39:47.607563Z"
    }
   },
   "outputs": [],
   "source": [
    "import pandas as pd\n",
    "import numpy as np\n",
    "from tqdm import tqdm\n",
    "import matplotlib.pyplot as plt"
   ]
  },
  {
   "cell_type": "code",
   "execution_count": 31,
   "metadata": {
    "ExecuteTime": {
     "end_time": "2019-07-24T16:25:57.507622Z",
     "start_time": "2019-07-24T16:25:57.315195Z"
    }
   },
   "outputs": [
    {
     "data": {
      "text/html": [
       "<div>\n",
       "<style scoped>\n",
       "    .dataframe tbody tr th:only-of-type {\n",
       "        vertical-align: middle;\n",
       "    }\n",
       "\n",
       "    .dataframe tbody tr th {\n",
       "        vertical-align: top;\n",
       "    }\n",
       "\n",
       "    .dataframe thead th {\n",
       "        text-align: right;\n",
       "    }\n",
       "</style>\n",
       "<table border=\"1\" class=\"dataframe\">\n",
       "  <thead>\n",
       "    <tr style=\"text-align: right;\">\n",
       "      <th></th>\n",
       "      <th>date</th>\n",
       "      <th>MFD_BUYAMT_A_1</th>\n",
       "      <th>MFD_SELLAMT_A_1</th>\n",
       "      <th>MFD_BUYAMT_A_2</th>\n",
       "      <th>MFD_SELLAMT_A_2</th>\n",
       "      <th>MFD_BUYAMT_A_3</th>\n",
       "      <th>MFD_SELLAMT_A_3</th>\n",
       "      <th>MFD_BUYAMT_A_4</th>\n",
       "      <th>MFD_SELLAMT_A_4</th>\n",
       "      <th>code</th>\n",
       "    </tr>\n",
       "  </thead>\n",
       "  <tbody>\n",
       "    <tr>\n",
       "      <th>0</th>\n",
       "      <td>2017-03-17</td>\n",
       "      <td>37679130.0</td>\n",
       "      <td>66446440.0</td>\n",
       "      <td>28845356.0</td>\n",
       "      <td>42765575.0</td>\n",
       "      <td>29105795.0</td>\n",
       "      <td>68467273.0</td>\n",
       "      <td>29105795.0</td>\n",
       "      <td>68467273.0</td>\n",
       "      <td>600000.SH</td>\n",
       "    </tr>\n",
       "    <tr>\n",
       "      <th>1</th>\n",
       "      <td>2017-03-20</td>\n",
       "      <td>17207390.0</td>\n",
       "      <td>54096160.0</td>\n",
       "      <td>27110699.0</td>\n",
       "      <td>34954565.0</td>\n",
       "      <td>31921862.0</td>\n",
       "      <td>26525834.0</td>\n",
       "      <td>31921862.0</td>\n",
       "      <td>26525834.0</td>\n",
       "      <td>600000.SH</td>\n",
       "    </tr>\n",
       "    <tr>\n",
       "      <th>2</th>\n",
       "      <td>2017-03-21</td>\n",
       "      <td>34142020.0</td>\n",
       "      <td>141744700.0</td>\n",
       "      <td>42645102.0</td>\n",
       "      <td>95691208.0</td>\n",
       "      <td>53642089.0</td>\n",
       "      <td>43922409.0</td>\n",
       "      <td>53642089.0</td>\n",
       "      <td>43922409.0</td>\n",
       "      <td>600000.SH</td>\n",
       "    </tr>\n",
       "    <tr>\n",
       "      <th>3</th>\n",
       "      <td>2017-03-22</td>\n",
       "      <td>44230730.0</td>\n",
       "      <td>170243000.0</td>\n",
       "      <td>88170741.0</td>\n",
       "      <td>101858270.0</td>\n",
       "      <td>57872201.0</td>\n",
       "      <td>129818879.0</td>\n",
       "      <td>57872201.0</td>\n",
       "      <td>129818879.0</td>\n",
       "      <td>600000.SH</td>\n",
       "    </tr>\n",
       "    <tr>\n",
       "      <th>4</th>\n",
       "      <td>2017-03-23</td>\n",
       "      <td>53226020.0</td>\n",
       "      <td>34041210.0</td>\n",
       "      <td>70730807.0</td>\n",
       "      <td>44377891.0</td>\n",
       "      <td>55058740.0</td>\n",
       "      <td>36724126.0</td>\n",
       "      <td>55058740.0</td>\n",
       "      <td>36724126.0</td>\n",
       "      <td>600000.SH</td>\n",
       "    </tr>\n",
       "  </tbody>\n",
       "</table>\n",
       "</div>"
      ],
      "text/plain": [
       "        date  MFD_BUYAMT_A_1  MFD_SELLAMT_A_1  MFD_BUYAMT_A_2  \\\n",
       "0 2017-03-17      37679130.0       66446440.0      28845356.0   \n",
       "1 2017-03-20      17207390.0       54096160.0      27110699.0   \n",
       "2 2017-03-21      34142020.0      141744700.0      42645102.0   \n",
       "3 2017-03-22      44230730.0      170243000.0      88170741.0   \n",
       "4 2017-03-23      53226020.0       34041210.0      70730807.0   \n",
       "\n",
       "   MFD_SELLAMT_A_2  MFD_BUYAMT_A_3  MFD_SELLAMT_A_3  MFD_BUYAMT_A_4  \\\n",
       "0       42765575.0      29105795.0       68467273.0      29105795.0   \n",
       "1       34954565.0      31921862.0       26525834.0      31921862.0   \n",
       "2       95691208.0      53642089.0       43922409.0      53642089.0   \n",
       "3      101858270.0      57872201.0      129818879.0      57872201.0   \n",
       "4       44377891.0      55058740.0       36724126.0      55058740.0   \n",
       "\n",
       "   MFD_SELLAMT_A_4       code  \n",
       "0       68467273.0  600000.SH  \n",
       "1       26525834.0  600000.SH  \n",
       "2       43922409.0  600000.SH  \n",
       "3      129818879.0  600000.SH  \n",
       "4       36724126.0  600000.SH  "
      ]
     },
     "execution_count": 31,
     "metadata": {},
     "output_type": "execute_result"
    }
   ],
   "source": [
    "data_path = '../data/'\n",
    "BSamt = pd.read_csv(data_path+'buyamt.txt',delim_whitespace=True)\n",
    "BSamt.loc[:,'date'] = pd.to_datetime(BSamt['date'],format = '%Y-%m-%d',errors = 'coerce')\n",
    "BSamt.head()"
   ]
  },
  {
   "cell_type": "code",
   "execution_count": 111,
   "metadata": {
    "ExecuteTime": {
     "end_time": "2019-07-24T19:34:30.971962Z",
     "start_time": "2019-07-24T19:34:30.878871Z"
    }
   },
   "outputs": [
    {
     "data": {
      "text/html": [
       "<div>\n",
       "<style scoped>\n",
       "    .dataframe tbody tr th:only-of-type {\n",
       "        vertical-align: middle;\n",
       "    }\n",
       "\n",
       "    .dataframe tbody tr th {\n",
       "        vertical-align: top;\n",
       "    }\n",
       "\n",
       "    .dataframe thead th {\n",
       "        text-align: right;\n",
       "    }\n",
       "</style>\n",
       "<table border=\"1\" class=\"dataframe\">\n",
       "  <thead>\n",
       "    <tr style=\"text-align: right;\">\n",
       "      <th></th>\n",
       "      <th>date</th>\n",
       "      <th>BUY</th>\n",
       "      <th>SELL</th>\n",
       "      <th>code</th>\n",
       "    </tr>\n",
       "  </thead>\n",
       "  <tbody>\n",
       "    <tr>\n",
       "      <th>0</th>\n",
       "      <td>2017-03-17</td>\n",
       "      <td>1017</td>\n",
       "      <td>2320</td>\n",
       "      <td>600000.SH</td>\n",
       "    </tr>\n",
       "    <tr>\n",
       "      <th>1</th>\n",
       "      <td>2017-03-20</td>\n",
       "      <td>1082</td>\n",
       "      <td>963</td>\n",
       "      <td>600000.SH</td>\n",
       "    </tr>\n",
       "    <tr>\n",
       "      <th>2</th>\n",
       "      <td>2017-03-21</td>\n",
       "      <td>1818</td>\n",
       "      <td>1724</td>\n",
       "      <td>600000.SH</td>\n",
       "    </tr>\n",
       "    <tr>\n",
       "      <th>3</th>\n",
       "      <td>2017-03-22</td>\n",
       "      <td>2053</td>\n",
       "      <td>4484</td>\n",
       "      <td>600000.SH</td>\n",
       "    </tr>\n",
       "    <tr>\n",
       "      <th>4</th>\n",
       "      <td>2017-03-23</td>\n",
       "      <td>1938</td>\n",
       "      <td>1285</td>\n",
       "      <td>600000.SH</td>\n",
       "    </tr>\n",
       "  </tbody>\n",
       "</table>\n",
       "</div>"
      ],
      "text/plain": [
       "        date   BUY  SELL       code\n",
       "0 2017-03-17  1017  2320  600000.SH\n",
       "1 2017-03-20  1082   963  600000.SH\n",
       "2 2017-03-21  1818  1724  600000.SH\n",
       "3 2017-03-22  2053  4484  600000.SH\n",
       "4 2017-03-23  1938  1285  600000.SH"
      ]
     },
     "execution_count": 111,
     "metadata": {},
     "output_type": "execute_result"
    }
   ],
   "source": [
    "# transfer raw data into buy/sell quantity\n",
    "BSamt['BUY'] =BSamt['MFD_BUYAMT_A_1']/1000000+BSamt['MFD_BUYAMT_A_2']/500000+BSamt['MFD_BUYAMT_A_3']/150000+BSamt['MFD_BUYAMT_A_4']/40000\n",
    "BSamt['SELL'] =BSamt['MFD_SELLAMT_A_1']/1000000+BSamt['MFD_SELLAMT_A_2']/500000+BSamt['MFD_SELLAMT_A_3']/150000+BSamt['MFD_SELLAMT_A_4']/40000\n",
    "BSamt.loc[:,['BUY','SELL']]= BSamt.loc[:,['BUY','SELL']].fillna(0)\n",
    "BSamt.loc[:,'BUY'] = [int(t) for t in BSamt['BUY']]\n",
    "BSamt.loc[:,'SELL'] = [int(t) for t in BSamt['SELL']]\n",
    "PINamt = BSamt.loc[:,['date','BUY','SELL','code']]\n",
    "PINamt.head()"
   ]
  },
  {
   "cell_type": "code",
   "execution_count": 122,
   "metadata": {
    "ExecuteTime": {
     "end_time": "2019-07-24T19:50:07.816957Z",
     "start_time": "2019-07-24T19:50:07.808003Z"
    }
   },
   "outputs": [],
   "source": [
    "# initialize parameters for PIN estimations\n",
    "def init_params(B,S):\n",
    "    B = B/100\n",
    "    S = S/100\n",
    "    alph = 0.1\n",
    "    delt = 0.3\n",
    "    gamm = 0.5\n",
    "    B_bar = np.average(B)\n",
    "    epsiB = gamm*B_bar\n",
    "    miu = (B_bar-epsiB)/(alph*(1-delt))\n",
    "    epsiS = np.average(S)-alph*delt*miu\n",
    "    return [alph,delt,miu,epsiB,epsiS]"
   ]
  },
  {
   "cell_type": "code",
   "execution_count": 137,
   "metadata": {
    "ExecuteTime": {
     "end_time": "2019-07-24T20:03:06.792844Z",
     "start_time": "2019-07-24T20:03:06.783741Z"
    }
   },
   "outputs": [],
   "source": [
    "def pin_likelihood_EHO(params,B,S): \n",
    "    \n",
    "    '''\n",
    "    estimate joint likelihood function using factorization from Easley, Hvidkjaer, and O’Hara (2010) \n",
    "    \n",
    "    :param params: tuple, \\alpha, \\delta \\mu, \\epsilon_B, \\epsilon_S \n",
    "    :param B: list, list of buy flow in quantity\n",
    "    :param S: list, list of sell flow in quantity\n",
    "    :return: float, joint likelihood function, the likelihood of the params given the buy and sell flow\n",
    " \n",
    "    '''\n",
    "    #initialize parameter values\n",
    "    alph,delt,miu,epsiB,epsiS = params\n",
    "    \n",
    "    #initialize likelihood\n",
    "    likel = 0.0\n",
    "    \n",
    "    #assign number of trading days\n",
    "    trad_days  = min(len(B),len(S))\n",
    "    B = B/100\n",
    "    S = S/100\n",
    "    \n",
    "    for j in range(1,trad_days):\n",
    "        #number of buy- and sell-trads for the trading day\n",
    "        buy_s = B[j]\n",
    "        sell_s =S[j]\n",
    "        \n",
    "        #compute values of interest for the log-likelihood function\n",
    "        M  = min(buy_s,sell_s)+max(buy_s,sell_s)/2\n",
    "        Xs = epsiS/(miu+epsiS)\n",
    "        Xb = epsiB/(miu+epsiB)\n",
    "        \n",
    "        a1 = np.exp(-miu)\n",
    "        a2 = Xs**(sell_s-M)\n",
    "        a3 = Xb**(buy_s-M)\n",
    "        a4 = Xs**(-M)\n",
    "        a5 = Xb**(-M)\n",
    "        \n",
    "        part1 = -epsiB-epsiS+M*(np.log(Xb)+np.log(Xs))+buy_s*np.log(miu+epsiB)+sell_s*np.log(miu+epsiS)\n",
    "        part2 = np.log(alph*(1-delt)*a1*a2*a5+alph*delt*a1*a3*a4+(1-alph)*a2*a3)\n",
    "        \n",
    "        likel = likel+part1+part2\n",
    "\n",
    "    likel *= -1\n",
    "    return likel\n",
    "            "
   ]
  },
  {
   "cell_type": "code",
   "execution_count": 141,
   "metadata": {
    "ExecuteTime": {
     "end_time": "2019-07-24T20:03:45.207253Z",
     "start_time": "2019-07-24T20:03:45.196359Z"
    }
   },
   "outputs": [],
   "source": [
    "def pin_likelihood_LK(params,B,S): \n",
    "    '''\n",
    "    estimate joint likelihood function using factorization from Lin and Ke(2011)\n",
    "    \n",
    "    :param params: tuple, \\alpha, \\delta \\mu, \\epsilon_B, \\epsilon_S \n",
    "    :param B: list, list of buy flow in quantity\n",
    "    :param S: list, list of sell flow in quantity\n",
    "    :return: float, joint likelihood function, the likelihood of the params given the buy and sell flow\n",
    " \n",
    "    '''\n",
    "    #initialize parameter values\n",
    "    alph,delt,mu,epsiB,epsiS = params\n",
    "    \n",
    "    #initialize likelihood\n",
    "    likel = 0.0\n",
    "    B = B/100 # scale adjustment\n",
    "    S = S/100\n",
    "    #assign number of trading days\n",
    "    trad_days  = min(len(B),len(S))\n",
    "    \n",
    "    for j in range(1,trad_days):\n",
    "        #number of buy- and sell-trads for the trading day\n",
    "        buy_s = B[j]\n",
    "        sell_s =S[j]\n",
    "        \n",
    "        #compute values of interest for the log-likelihood function\n",
    "        e1 = -mu-sell_s*np.log(1+mu/epsiS)\n",
    "        e2 = -mu-buy_s*np.log(1+mu/epsiB)\n",
    "        e3 = -buy_s*np.log(1+mu/epsiB)-sell_s*np.log(1+mu/epsiS)\n",
    "        e_m = max(e1,e2,e3)\n",
    "        \n",
    "        part1 = -epsiB-epsiS+buy_s*np.log(mu+epsiB)+sell_s*np.log(mu+epsiS)+e_m\n",
    "        part2 = np.log(alph*(1-delt)*np.exp(e1-e_m)+alph*delt*np.exp(e2-e_m)+(1-alph)*np.exp(e3-e_m))\n",
    "        \n",
    "        likel = likel+part1+part2\n",
    "    likel *= -1\n",
    "    \n",
    "    return likel"
   ]
  },
  {
   "cell_type": "code",
   "execution_count": 143,
   "metadata": {
    "ExecuteTime": {
     "end_time": "2019-07-24T20:06:13.394225Z",
     "start_time": "2019-07-24T20:06:12.082234Z"
    }
   },
   "outputs": [
    {
     "data": {
      "text/plain": [
       "-1909.132078973779"
      ]
     },
     "execution_count": 143,
     "metadata": {},
     "output_type": "execute_result"
    },
    {
     "name": "stdout",
     "output_type": "stream",
     "text": [
      "PIN_EHO 0.11729866760493875\n"
     ]
    },
    {
     "data": {
      "text/plain": [
       "-1909.1320789737792"
      ]
     },
     "execution_count": 143,
     "metadata": {},
     "output_type": "execute_result"
    },
    {
     "name": "stdout",
     "output_type": "stream",
     "text": [
      "PIN_LK 0.11729866760493875\n"
     ]
    }
   ],
   "source": [
    "# an example for estimating PIN value use both methods on a 30 day window\n",
    "code = '600000.SH'\n",
    "trades = PINamt[PINamt.code==code]\n",
    "period = 30\n",
    "trades  = trades.reset_index(drop = True)\n",
    "i = 31\n",
    "B = trades.loc[i-period:i,'BUY']\n",
    "S = trades.loc[i-period:i,'SELL']\n",
    "params = EHO_init_params(B,S)\n",
    "pin_likelihood_EHO(params,B,S)\n",
    "opt_params = minimize(pin_likelihood_EHO,params,args = (B,S),method = 'Nelder-Mead').x\n",
    "alph,delt,mu,epsiB,epsiS = opt_params\n",
    "PIN_EHO= (alph*mu)/(alph*mu+epsiB+epsiS)\n",
    "print('PIN_EHO {}'.format(PIN_EHO))\n",
    "params = EHO_init_params(B,S)\n",
    "pin_likelihood_LK(params,B,S)\n",
    "bnds = ((0, 1), (0, 1),(0,None),(0,None),(0,None))\n",
    "opt_params2 = minimize(pin_likelihood_LK,params,args = (B,S),method = 'Nelder-Mead',bounds = bnds).x\n",
    "alph,delt,mu,epsiB,epsiS = opt_params2\n",
    "PIN_LK= (alph*mu)/(alph*mu+epsiB+epsiS)\n",
    "print('PIN_LK {}'.format(PIN_LK))"
   ]
  },
  {
   "cell_type": "code",
   "execution_count": null,
   "metadata": {},
   "outputs": [],
   "source": [
    "# functionize the process of estimating PIN value for every 30 trade days\n",
    "def PIN_by_code(params,df,code):\n",
    "    # assign calculation period (30 day basis)\n",
    "    trades = df[df.code==code]\n",
    "    period = 30\n",
    "    trades.reset_index(drop = True)\n",
    "    for i in range(peiod,len(trades)):\n",
    "        B = trades.loc[i-period:i,'BUY']\n",
    "        S = trades.loc[i-period:i,'SELL']\n",
    "        params = init_params(B,S)\n",
    "        from scipy.optimize import minimize\n",
    "        opt_params = minimize(pin_likelihood_LK,params,args = (B,S),method = 'Nelder-Mead').x\n",
    "        alph,delt,miu,epsiB,epsiS = opt_params\n",
    "        trades.loc[i,'PIN_EHO'] = (alph*miu)/(alph_epsiB+epsiS)\n",
    "    return trades.loc[:,'PIN_EHO']"
   ]
  }
 ],
 "metadata": {
  "kernelspec": {
   "display_name": "Python 3",
   "language": "python",
   "name": "python3"
  },
  "language_info": {
   "codemirror_mode": {
    "name": "ipython",
    "version": 3
   },
   "file_extension": ".py",
   "mimetype": "text/x-python",
   "name": "python",
   "nbconvert_exporter": "python",
   "pygments_lexer": "ipython3",
   "version": "3.7.1"
  },
  "latex_envs": {
   "LaTeX_envs_menu_present": true,
   "autoclose": false,
   "autocomplete": true,
   "bibliofile": "biblio.bib",
   "cite_by": "apalike",
   "current_citInitial": 1,
   "eqLabelWithNumbers": true,
   "eqNumInitial": 1,
   "hotkeys": {
    "equation": "Ctrl-E",
    "itemize": "Ctrl-I"
   },
   "labels_anchors": false,
   "latex_user_defs": false,
   "report_style_numbering": false,
   "user_envs_cfg": false
  },
  "toc": {
   "base_numbering": 1,
   "nav_menu": {},
   "number_sections": true,
   "sideBar": true,
   "skip_h1_title": false,
   "title_cell": "Table of Contents",
   "title_sidebar": "Contents",
   "toc_cell": false,
   "toc_position": {},
   "toc_section_display": true,
   "toc_window_display": false
  }
 },
 "nbformat": 4,
 "nbformat_minor": 2
}
